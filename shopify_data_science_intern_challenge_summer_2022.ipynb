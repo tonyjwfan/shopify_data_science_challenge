{
 "cells": [
  {
   "cell_type": "markdown",
   "id": "18a37a9d",
   "metadata": {},
   "source": [
    "## Question 1: Data Metric Evaluation"
   ]
  },
  {
   "cell_type": "code",
   "execution_count": 44,
   "id": "61c6d234",
   "metadata": {},
   "outputs": [],
   "source": [
    "import pandas as pd\n",
    "import matplotlib.pyplot as plt\n",
    "\n",
    "%matplotlib inline"
   ]
  },
  {
   "cell_type": "code",
   "execution_count": 2,
   "id": "1948e6da",
   "metadata": {},
   "outputs": [],
   "source": [
    "# importing dataset as a pandas dataframe\n",
    "df = pd.read_csv('2019 Winter Data Science Intern Challenge Data Set - Sheet1.csv')"
   ]
  },
  {
   "cell_type": "markdown",
   "id": "b1ce115f",
   "metadata": {},
   "source": [
    "### Exploratory Data Analysis"
   ]
  },
  {
   "cell_type": "code",
   "execution_count": 13,
   "id": "f5e7d496",
   "metadata": {},
   "outputs": [
    {
     "data": {
      "text/html": [
       "<div>\n",
       "<style scoped>\n",
       "    .dataframe tbody tr th:only-of-type {\n",
       "        vertical-align: middle;\n",
       "    }\n",
       "\n",
       "    .dataframe tbody tr th {\n",
       "        vertical-align: top;\n",
       "    }\n",
       "\n",
       "    .dataframe thead th {\n",
       "        text-align: right;\n",
       "    }\n",
       "</style>\n",
       "<table border=\"1\" class=\"dataframe\">\n",
       "  <thead>\n",
       "    <tr style=\"text-align: right;\">\n",
       "      <th></th>\n",
       "      <th>order_id</th>\n",
       "      <th>shop_id</th>\n",
       "      <th>user_id</th>\n",
       "      <th>order_amount</th>\n",
       "      <th>total_items</th>\n",
       "      <th>payment_method</th>\n",
       "      <th>created_at</th>\n",
       "    </tr>\n",
       "  </thead>\n",
       "  <tbody>\n",
       "    <tr>\n",
       "      <th>0</th>\n",
       "      <td>1</td>\n",
       "      <td>53</td>\n",
       "      <td>746</td>\n",
       "      <td>224</td>\n",
       "      <td>2</td>\n",
       "      <td>cash</td>\n",
       "      <td>2017-03-13 12:36:56</td>\n",
       "    </tr>\n",
       "    <tr>\n",
       "      <th>1</th>\n",
       "      <td>2</td>\n",
       "      <td>92</td>\n",
       "      <td>925</td>\n",
       "      <td>90</td>\n",
       "      <td>1</td>\n",
       "      <td>cash</td>\n",
       "      <td>2017-03-03 17:38:52</td>\n",
       "    </tr>\n",
       "    <tr>\n",
       "      <th>2</th>\n",
       "      <td>3</td>\n",
       "      <td>44</td>\n",
       "      <td>861</td>\n",
       "      <td>144</td>\n",
       "      <td>1</td>\n",
       "      <td>cash</td>\n",
       "      <td>2017-03-14 4:23:56</td>\n",
       "    </tr>\n",
       "    <tr>\n",
       "      <th>3</th>\n",
       "      <td>4</td>\n",
       "      <td>18</td>\n",
       "      <td>935</td>\n",
       "      <td>156</td>\n",
       "      <td>1</td>\n",
       "      <td>credit_card</td>\n",
       "      <td>2017-03-26 12:43:37</td>\n",
       "    </tr>\n",
       "    <tr>\n",
       "      <th>4</th>\n",
       "      <td>5</td>\n",
       "      <td>18</td>\n",
       "      <td>883</td>\n",
       "      <td>156</td>\n",
       "      <td>1</td>\n",
       "      <td>credit_card</td>\n",
       "      <td>2017-03-01 4:35:11</td>\n",
       "    </tr>\n",
       "  </tbody>\n",
       "</table>\n",
       "</div>"
      ],
      "text/plain": [
       "   order_id  shop_id  user_id  order_amount  total_items payment_method  \\\n",
       "0         1       53      746           224            2           cash   \n",
       "1         2       92      925            90            1           cash   \n",
       "2         3       44      861           144            1           cash   \n",
       "3         4       18      935           156            1    credit_card   \n",
       "4         5       18      883           156            1    credit_card   \n",
       "\n",
       "            created_at  \n",
       "0  2017-03-13 12:36:56  \n",
       "1  2017-03-03 17:38:52  \n",
       "2   2017-03-14 4:23:56  \n",
       "3  2017-03-26 12:43:37  \n",
       "4   2017-03-01 4:35:11  "
      ]
     },
     "execution_count": 13,
     "metadata": {},
     "output_type": "execute_result"
    }
   ],
   "source": [
    "# first look at the data\n",
    "df.head()"
   ]
  },
  {
   "cell_type": "code",
   "execution_count": 6,
   "id": "2058ac80",
   "metadata": {
    "scrolled": true
   },
   "outputs": [
    {
     "name": "stdout",
     "output_type": "stream",
     "text": [
      "<class 'pandas.core.frame.DataFrame'>\n",
      "RangeIndex: 5000 entries, 0 to 4999\n",
      "Data columns (total 7 columns):\n",
      " #   Column          Non-Null Count  Dtype \n",
      "---  ------          --------------  ----- \n",
      " 0   order_id        5000 non-null   int64 \n",
      " 1   shop_id         5000 non-null   int64 \n",
      " 2   user_id         5000 non-null   int64 \n",
      " 3   order_amount    5000 non-null   int64 \n",
      " 4   total_items     5000 non-null   int64 \n",
      " 5   payment_method  5000 non-null   object\n",
      " 6   created_at      5000 non-null   object\n",
      "dtypes: int64(5), object(2)\n",
      "memory usage: 273.6+ KB\n"
     ]
    }
   ],
   "source": [
    "# check for missing data\n",
    "df.info()"
   ]
  },
  {
   "cell_type": "markdown",
   "id": "383d1ba1",
   "metadata": {},
   "source": [
    "<b>comment:</b> observed no missing data"
   ]
  },
  {
   "cell_type": "code",
   "execution_count": 12,
   "id": "38766315",
   "metadata": {},
   "outputs": [
    {
     "name": "stdout",
     "output_type": "stream",
     "text": [
      "100\n"
     ]
    }
   ],
   "source": [
    "# confirming that the number of shops is 100\n",
    "print(len(df['shop_id'].unique()))"
   ]
  },
  {
   "cell_type": "code",
   "execution_count": 17,
   "id": "0139fec2",
   "metadata": {},
   "outputs": [
    {
     "data": {
      "text/html": [
       "<div>\n",
       "<style scoped>\n",
       "    .dataframe tbody tr th:only-of-type {\n",
       "        vertical-align: middle;\n",
       "    }\n",
       "\n",
       "    .dataframe tbody tr th {\n",
       "        vertical-align: top;\n",
       "    }\n",
       "\n",
       "    .dataframe thead th {\n",
       "        text-align: right;\n",
       "    }\n",
       "</style>\n",
       "<table border=\"1\" class=\"dataframe\">\n",
       "  <thead>\n",
       "    <tr style=\"text-align: right;\">\n",
       "      <th></th>\n",
       "      <th>order_id</th>\n",
       "      <th>shop_id</th>\n",
       "      <th>user_id</th>\n",
       "      <th>order_amount</th>\n",
       "      <th>total_items</th>\n",
       "      <th>payment_method</th>\n",
       "      <th>created_at</th>\n",
       "    </tr>\n",
       "  </thead>\n",
       "  <tbody>\n",
       "    <tr>\n",
       "      <th>1862</th>\n",
       "      <td>1863</td>\n",
       "      <td>39</td>\n",
       "      <td>738</td>\n",
       "      <td>536</td>\n",
       "      <td>4</td>\n",
       "      <td>cash</td>\n",
       "      <td>2017-03-01 0:08:09</td>\n",
       "    </tr>\n",
       "    <tr>\n",
       "      <th>1741</th>\n",
       "      <td>1742</td>\n",
       "      <td>39</td>\n",
       "      <td>910</td>\n",
       "      <td>268</td>\n",
       "      <td>2</td>\n",
       "      <td>cash</td>\n",
       "      <td>2017-03-01 0:10:19</td>\n",
       "    </tr>\n",
       "    <tr>\n",
       "      <th>3228</th>\n",
       "      <td>3229</td>\n",
       "      <td>97</td>\n",
       "      <td>912</td>\n",
       "      <td>324</td>\n",
       "      <td>2</td>\n",
       "      <td>cash</td>\n",
       "      <td>2017-03-01 0:14:12</td>\n",
       "    </tr>\n",
       "    <tr>\n",
       "      <th>1267</th>\n",
       "      <td>1268</td>\n",
       "      <td>80</td>\n",
       "      <td>798</td>\n",
       "      <td>290</td>\n",
       "      <td>2</td>\n",
       "      <td>credit_card</td>\n",
       "      <td>2017-03-01 0:19:31</td>\n",
       "    </tr>\n",
       "    <tr>\n",
       "      <th>2689</th>\n",
       "      <td>2690</td>\n",
       "      <td>49</td>\n",
       "      <td>799</td>\n",
       "      <td>258</td>\n",
       "      <td>2</td>\n",
       "      <td>credit_card</td>\n",
       "      <td>2017-03-01 0:22:25</td>\n",
       "    </tr>\n",
       "    <tr>\n",
       "      <th>...</th>\n",
       "      <td>...</td>\n",
       "      <td>...</td>\n",
       "      <td>...</td>\n",
       "      <td>...</td>\n",
       "      <td>...</td>\n",
       "      <td>...</td>\n",
       "      <td>...</td>\n",
       "    </tr>\n",
       "    <tr>\n",
       "      <th>2630</th>\n",
       "      <td>2631</td>\n",
       "      <td>53</td>\n",
       "      <td>940</td>\n",
       "      <td>112</td>\n",
       "      <td>1</td>\n",
       "      <td>credit_card</td>\n",
       "      <td>2017-03-30 23:12:13</td>\n",
       "    </tr>\n",
       "    <tr>\n",
       "      <th>1685</th>\n",
       "      <td>1686</td>\n",
       "      <td>34</td>\n",
       "      <td>818</td>\n",
       "      <td>244</td>\n",
       "      <td>2</td>\n",
       "      <td>cash</td>\n",
       "      <td>2017-03-30 23:16:10</td>\n",
       "    </tr>\n",
       "    <tr>\n",
       "      <th>1474</th>\n",
       "      <td>1475</td>\n",
       "      <td>21</td>\n",
       "      <td>815</td>\n",
       "      <td>142</td>\n",
       "      <td>1</td>\n",
       "      <td>cash</td>\n",
       "      <td>2017-03-30 23:26:54</td>\n",
       "    </tr>\n",
       "    <tr>\n",
       "      <th>317</th>\n",
       "      <td>318</td>\n",
       "      <td>52</td>\n",
       "      <td>848</td>\n",
       "      <td>292</td>\n",
       "      <td>2</td>\n",
       "      <td>cash</td>\n",
       "      <td>2017-03-30 23:41:34</td>\n",
       "    </tr>\n",
       "    <tr>\n",
       "      <th>2457</th>\n",
       "      <td>2458</td>\n",
       "      <td>95</td>\n",
       "      <td>700</td>\n",
       "      <td>168</td>\n",
       "      <td>1</td>\n",
       "      <td>credit_card</td>\n",
       "      <td>2017-03-30 23:55:35</td>\n",
       "    </tr>\n",
       "  </tbody>\n",
       "</table>\n",
       "<p>5000 rows × 7 columns</p>\n",
       "</div>"
      ],
      "text/plain": [
       "      order_id  shop_id  user_id  order_amount  total_items payment_method  \\\n",
       "1862      1863       39      738           536            4           cash   \n",
       "1741      1742       39      910           268            2           cash   \n",
       "3228      3229       97      912           324            2           cash   \n",
       "1267      1268       80      798           290            2    credit_card   \n",
       "2689      2690       49      799           258            2    credit_card   \n",
       "...        ...      ...      ...           ...          ...            ...   \n",
       "2630      2631       53      940           112            1    credit_card   \n",
       "1685      1686       34      818           244            2           cash   \n",
       "1474      1475       21      815           142            1           cash   \n",
       "317        318       52      848           292            2           cash   \n",
       "2457      2458       95      700           168            1    credit_card   \n",
       "\n",
       "               created_at  \n",
       "1862   2017-03-01 0:08:09  \n",
       "1741   2017-03-01 0:10:19  \n",
       "3228   2017-03-01 0:14:12  \n",
       "1267   2017-03-01 0:19:31  \n",
       "2689   2017-03-01 0:22:25  \n",
       "...                   ...  \n",
       "2630  2017-03-30 23:12:13  \n",
       "1685  2017-03-30 23:16:10  \n",
       "1474  2017-03-30 23:26:54  \n",
       "317   2017-03-30 23:41:34  \n",
       "2457  2017-03-30 23:55:35  \n",
       "\n",
       "[5000 rows x 7 columns]"
      ]
     },
     "execution_count": 17,
     "metadata": {},
     "output_type": "execute_result"
    }
   ],
   "source": [
    "# confirming that the orders were taken from a 30 day window\n",
    "df.sort_values(by='created_at', key=pd.to_datetime)"
   ]
  },
  {
   "cell_type": "code",
   "execution_count": 7,
   "id": "fe95a3f0",
   "metadata": {},
   "outputs": [
    {
     "data": {
      "text/html": [
       "<div>\n",
       "<style scoped>\n",
       "    .dataframe tbody tr th:only-of-type {\n",
       "        vertical-align: middle;\n",
       "    }\n",
       "\n",
       "    .dataframe tbody tr th {\n",
       "        vertical-align: top;\n",
       "    }\n",
       "\n",
       "    .dataframe thead th {\n",
       "        text-align: right;\n",
       "    }\n",
       "</style>\n",
       "<table border=\"1\" class=\"dataframe\">\n",
       "  <thead>\n",
       "    <tr style=\"text-align: right;\">\n",
       "      <th></th>\n",
       "      <th>order_id</th>\n",
       "      <th>shop_id</th>\n",
       "      <th>user_id</th>\n",
       "      <th>order_amount</th>\n",
       "      <th>total_items</th>\n",
       "    </tr>\n",
       "  </thead>\n",
       "  <tbody>\n",
       "    <tr>\n",
       "      <th>count</th>\n",
       "      <td>5000.000000</td>\n",
       "      <td>5000.000000</td>\n",
       "      <td>5000.000000</td>\n",
       "      <td>5000.000000</td>\n",
       "      <td>5000.00000</td>\n",
       "    </tr>\n",
       "    <tr>\n",
       "      <th>mean</th>\n",
       "      <td>2500.500000</td>\n",
       "      <td>50.078800</td>\n",
       "      <td>849.092400</td>\n",
       "      <td>3145.128000</td>\n",
       "      <td>8.78720</td>\n",
       "    </tr>\n",
       "    <tr>\n",
       "      <th>std</th>\n",
       "      <td>1443.520003</td>\n",
       "      <td>29.006118</td>\n",
       "      <td>87.798982</td>\n",
       "      <td>41282.539349</td>\n",
       "      <td>116.32032</td>\n",
       "    </tr>\n",
       "    <tr>\n",
       "      <th>min</th>\n",
       "      <td>1.000000</td>\n",
       "      <td>1.000000</td>\n",
       "      <td>607.000000</td>\n",
       "      <td>90.000000</td>\n",
       "      <td>1.00000</td>\n",
       "    </tr>\n",
       "    <tr>\n",
       "      <th>25%</th>\n",
       "      <td>1250.750000</td>\n",
       "      <td>24.000000</td>\n",
       "      <td>775.000000</td>\n",
       "      <td>163.000000</td>\n",
       "      <td>1.00000</td>\n",
       "    </tr>\n",
       "    <tr>\n",
       "      <th>50%</th>\n",
       "      <td>2500.500000</td>\n",
       "      <td>50.000000</td>\n",
       "      <td>849.000000</td>\n",
       "      <td>284.000000</td>\n",
       "      <td>2.00000</td>\n",
       "    </tr>\n",
       "    <tr>\n",
       "      <th>75%</th>\n",
       "      <td>3750.250000</td>\n",
       "      <td>75.000000</td>\n",
       "      <td>925.000000</td>\n",
       "      <td>390.000000</td>\n",
       "      <td>3.00000</td>\n",
       "    </tr>\n",
       "    <tr>\n",
       "      <th>max</th>\n",
       "      <td>5000.000000</td>\n",
       "      <td>100.000000</td>\n",
       "      <td>999.000000</td>\n",
       "      <td>704000.000000</td>\n",
       "      <td>2000.00000</td>\n",
       "    </tr>\n",
       "  </tbody>\n",
       "</table>\n",
       "</div>"
      ],
      "text/plain": [
       "          order_id      shop_id      user_id   order_amount  total_items\n",
       "count  5000.000000  5000.000000  5000.000000    5000.000000   5000.00000\n",
       "mean   2500.500000    50.078800   849.092400    3145.128000      8.78720\n",
       "std    1443.520003    29.006118    87.798982   41282.539349    116.32032\n",
       "min       1.000000     1.000000   607.000000      90.000000      1.00000\n",
       "25%    1250.750000    24.000000   775.000000     163.000000      1.00000\n",
       "50%    2500.500000    50.000000   849.000000     284.000000      2.00000\n",
       "75%    3750.250000    75.000000   925.000000     390.000000      3.00000\n",
       "max    5000.000000   100.000000   999.000000  704000.000000   2000.00000"
      ]
     },
     "execution_count": 7,
     "metadata": {},
     "output_type": "execute_result"
    }
   ],
   "source": [
    "# check numerical entries\n",
    "df.describe()"
   ]
  },
  {
   "cell_type": "markdown",
   "id": "373e44d0",
   "metadata": {},
   "source": [
    "<b>comment:</b> The average of the order amount is $3145.13. This was taken by summing all the order amounts and dividing the sum by the number of distinct orders (number of rows in the dataset). It seems that the naive calculation of the average order value (AOV) was calculated this way.\n",
    "\n",
    "According to a Shopify blog post on AOV ([link](https://www.shopify.ca/blog/average-order-value)), a shop's AOV is calculated by dividing its total revenue for the time period specified by the number of orders it has completed. To get an AOV of the overall shops, the individual AOV's of each shop should first be calculated. Only then can all the AOV's be averaged to output a meaningful metric for the overall AOV. In the naive calculation, the number of orders per shop is not taken into account. If there are a few shops that make up a large share of orders, this naive calculation method would yield a abnormally high AOV that is not representative of the actual average AOV."
   ]
  },
  {
   "cell_type": "code",
   "execution_count": 33,
   "id": "2728174d",
   "metadata": {},
   "outputs": [
    {
     "data": {
      "text/plain": [
       "count       100.000000\n",
       "mean       3136.834088\n",
       "std       23935.881130\n",
       "min         162.857143\n",
       "25%         263.675962\n",
       "50%         308.889758\n",
       "75%         336.628352\n",
       "max      235101.490196\n",
       "Name: order_amount, dtype: float64"
      ]
     },
     "execution_count": 33,
     "metadata": {},
     "output_type": "execute_result"
    }
   ],
   "source": [
    "# calculating AOV per shop\n",
    "df_AOV_per_shop = df.groupby(['shop_id']).sum()['order_amount']/df.groupby(['shop_id'])['order_amount'].count()\n",
    "df_AOV_per_shop.describe()"
   ]
  },
  {
   "cell_type": "code",
   "execution_count": 54,
   "id": "5c8fdefa",
   "metadata": {},
   "outputs": [
    {
     "data": {
      "text/plain": [
       "Text(0.5, 0, 'AOV')"
      ]
     },
     "execution_count": 54,
     "metadata": {},
     "output_type": "execute_result"
    },
    {
     "data": {
      "image/png": "[encoded data removed]",
      "text/plain": [
       "<Figure size 720x576 with 1 Axes>"
      ]
     },
     "metadata": {
      "needs_background": "light"
     },
     "output_type": "display_data"
    }
   ],
   "source": [
    "# visualizing the range of AOV per shop\n",
    "plt.figure(figsize=(10,8))\n",
    "df_AOV_per_shop.hist(bins=30)\n",
    "plt.title('Histogram of AOV per Shop')\n",
    "plt.ylabel('Frequency')\n",
    "plt.xlabel('AOV')"
   ]
  },
  {
   "cell_type": "markdown",
   "id": "026cdd91",
   "metadata": {},
   "source": [
    "<b>comment:</b> From the above tabular and visual results, we can see that newly calculated AOV is $3136.83. This is barely lower than the naive caluculation. The reason for this high average value is due to the few shops that have abnormally high average order values. These shops might be whole sale shops that sell in bulk and thus is not representative of the actual average order value for a typical shop.\n",
    "\n",
    "Because taking the average of the AOV per shop is susceptible to influence from outliers, a better representation of the overall AOV can be obtained by taking the median value of the AOV per shop."
   ]
  },
  {
   "cell_type": "code",
   "execution_count": 58,
   "id": "d8f41fb4",
   "metadata": {},
   "outputs": [
    {
     "data": {
      "text/plain": [
       "308.8897584973166"
      ]
     },
     "execution_count": 58,
     "metadata": {},
     "output_type": "execute_result"
    }
   ],
   "source": [
    "# calculating the median of the AOV per shop\n",
    "df_AOV_per_shop.median()"
   ]
  },
  {
   "cell_type": "markdown",
   "id": "0fd6068b",
   "metadata": {},
   "source": [
    "<b>comment:</b> By calculating th median AOV per shop, we get a more realistic value of $308.89 per order."
   ]
  },
  {
   "cell_type": "markdown",
   "id": "3556b05d",
   "metadata": {},
   "source": [
    "### Conclusion"
   ]
  },
  {
   "cell_type": "markdown",
   "id": "32c0cfd1",
   "metadata": {},
   "source": [
    "By exploring the data, it is apparent that the naive calculation method did not calculate the AOV as per Shopify's standards. Instead of taking the total order amount and dividing it by the total number of orders, the AOV per shop should first be calculated and then averaged. Despite performing this rectified method, the AOV calculated of $3135.83 does not seem too high. Upon further investigation, it is seen that a few outliers with extremely high order amounts are skewing the average. To obtain a more representative metric, it is recommended to take the median value of the AOV per shop instead.\n",
    "\n",
    "A python function that takes in the dataset and performs this evaluation can be found below:"
   ]
  },
  {
   "cell_type": "code",
   "execution_count": 66,
   "id": "1800e497",
   "metadata": {},
   "outputs": [
    {
     "name": "stdout",
     "output_type": "stream",
     "text": [
      "The median AOV per shop is: $308.89\n"
     ]
    }
   ],
   "source": [
    "def median_AOV(df):\n",
    "    '''\n",
    "    This function takes in a Shopify dataset and calculates the median AOV per shop.\n",
    "    inputs - pandas dataframe\n",
    "    outputs - median AOV\n",
    "    '''\n",
    "    df_AOV_per_shop = df.groupby(['shop_id']).sum()['order_amount']/df.groupby(['shop_id'])['order_amount'].count()\n",
    "    median_AOV_per_shop = df_AOV_per_shop.median()\n",
    "    \n",
    "    print('The median AOV per shop is: $%.2f' % round(median_AOV_per_shop,2))\n",
    "\n",
    "median_AOV(df)"
   ]
  },
  {
   "cell_type": "markdown",
   "id": "466a8053",
   "metadata": {},
   "source": [
    "## Question 2"
   ]
  },
  {
   "cell_type": "markdown",
   "id": "8dc15ebd",
   "metadata": {},
   "source": [
    "### a. How many orders were shipped by Speedy Express in total?"
   ]
  },
  {
   "cell_type": "markdown",
   "id": "ce06632d",
   "metadata": {},
   "source": [
    "SQL query:\n",
    "\n",
    "```\n",
    "SELECT COUNT(ShipperID)\n",
    "FROM Orders\n",
    "WHERE ShipperID == 1;\n",
    "```\n",
    "\n",
    "Output:\n",
    "\n",
    "| count(ShipperID) |\n",
    "| --- |\n",
    "| 54 |\n",
    "\n",
    "Answer: There are a <b>54</b> orders shipped by Speed Express in total.\n"
   ]
  },
  {
   "cell_type": "markdown",
   "id": "ce750d7b",
   "metadata": {},
   "source": [
    "### b. What is the last name of the employee with the most orders?"
   ]
  },
  {
   "cell_type": "markdown",
   "id": "35e2b95d",
   "metadata": {},
   "source": [
    "SQL query:\n",
    "\n",
    "```\n",
    "SELECT Employees.LastName, COUNT(Orders.EmployeeID) AS 'Frequency'\n",
    "FROM Orders, Employees\n",
    "WHERE Orders.EmployeeID == Employees.EmployeeID\n",
    "GROUP BY Orders.EmployeeID\n",
    "ORDER BY Frequency DESC\n",
    "Limit 1;\n",
    "```\n",
    "\n",
    "Output:\n",
    "\n",
    "| LastName | Frequency |\n",
    "| --- | --- |\n",
    "| Peacock | 40 |\n",
    "\n",
    "Answer: The last name of the employee with the most orders is <b>Peacock</b>."
   ]
  },
  {
   "cell_type": "markdown",
   "id": "0c2882f1",
   "metadata": {},
   "source": [
    "### c. What product was ordered the most by customers in Germany?"
   ]
  },
  {
   "cell_type": "markdown",
   "id": "0b84eaac",
   "metadata": {},
   "source": [
    "SQL query:\n",
    "\n",
    "```\n",
    "SELECT Products.ProductName, SUM(Quantity) AS TotalQuantity\n",
    "FROM Orders, OrderDetails, Customers, Products\n",
    "WHERE Customers.Country == \"Germany\" AND OrderDetails.OrderID == Orders.OrderID AND OrderDetails.ProductID == Products.ProductID AND Customers.CustomerID == Orders.CustomerID\n",
    "GROUP BY Products.ProductID\n",
    "ORDER BY TotalQuantity DESC\n",
    "LIMIT 1;\n",
    "```\n",
    "\n",
    "Output:\n",
    "\n",
    "| ProductName| TotalQuantity |\n",
    "| --- | --- |\n",
    "| Boston Crab Meat | 160 |\n",
    "\n",
    "Answer: The product that was ordered the most by customers in Germany was <b>Boston Crab Meat</b>."
   ]
  }
 ],
 "metadata": {
  "kernelspec": {
   "display_name": "Python 3",
   "language": "python",
   "name": "python3"
  },
  "language_info": {
   "codemirror_mode": {
    "name": "ipython",
    "version": 3
   },
   "file_extension": ".py",
   "mimetype": "text/x-python",
   "name": "python",
   "nbconvert_exporter": "python",
   "pygments_lexer": "ipython3",
   "version": "3.8.10"
  }
 },
 "nbformat": 4,
 "nbformat_minor": 5
}
